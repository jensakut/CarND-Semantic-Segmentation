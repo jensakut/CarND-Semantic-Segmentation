{
 "cells": [
  {
   "cell_type": "markdown",
   "metadata": {},
   "source": [
    "# Semantic Segmentation \n",
    "\n",
    "This project detects road and not-road using a dataset and tensorflow. \n",
    "\n",
    "## Imports and gpu-check"
   ]
  },
  {
   "cell_type": "code",
   "execution_count": 1,
   "metadata": {},
   "outputs": [
    {
     "name": "stdout",
     "output_type": "stream",
     "text": [
      "TensorFlow Version: 1.10.0\n",
      "Default GPU Device: /device:GPU:0\n"
     ]
    }
   ],
   "source": [
    "#!/usr/bin/env python3\n",
    "import time\n",
    "import os.path\n",
    "import tensorflow as tf\n",
    "import helper\n",
    "import warnings\n",
    "from distutils.version import LooseVersion\n",
    "import project_tests as tests\n",
    "from datetime import timedelta\n",
    "import scipy.misc\n",
    "\n",
    "# Check TensorFlow Version\n",
    "assert LooseVersion(tf.__version__) >= LooseVersion('1.0'), 'Please use TensorFlow version 1.0 or newer.  You are using {}'.format(tf.__version__)\n",
    "print('TensorFlow Version: {}'.format(tf.__version__))\n",
    "\n",
    "# Check for a GPU\n",
    "if not tf.test.gpu_device_name():\n",
    "    warnings.warn('No GPU found. Please use a GPU to train your neural network.')\n",
    "else:\n",
    "    print('Default GPU Device: {}'.format(tf.test.gpu_device_name()))\n"
   ]
  },
  {
   "cell_type": "markdown",
   "metadata": {},
   "source": [
    "## Parameters\n",
    "\n",
    "Variations of ... did the following: ... "
   ]
  },
  {
   "cell_type": "code",
   "execution_count": 2,
   "metadata": {},
   "outputs": [],
   "source": [
    "L2_REG = 1e-5 # TODO: try smaller number like 1e-5\n",
    "STDEV = 1e-3\n",
    "KEEP_PROB = 0.5\n",
    "LEARNING_RATE = 1e-4\n",
    "EPOCHS = 20\n",
    "BATCH_SIZE = 4 \n",
    "IMAGE_SHAPE = (160, 576)\n",
    "NUM_CLASSES = 2\n",
    "\n",
    "DATA_DIR = './data'\n",
    "RUNS_DIR = './runs'\n",
    "MODEL_DIR = './models'"
   ]
  },
  {
   "cell_type": "markdown",
   "metadata": {},
   "source": [
    "## load_vgg(sess, vgg_path)"
   ]
  },
  {
   "cell_type": "code",
   "execution_count": 3,
   "metadata": {},
   "outputs": [
    {
     "name": "stdout",
     "output_type": "stream",
     "text": [
      "Load vgg16 model: \n",
      "Tests Passed\n"
     ]
    }
   ],
   "source": [
    "def load_vgg(sess, vgg_path):\n",
    "    \"\"\"\n",
    "    Load Pretrained VGG Model into TensorFlow.\n",
    "    :param sess: TensorFlow Session\n",
    "    :param vgg_path: Path to vgg folder, containing \"variables/\" and \"saved_model.pb\"\n",
    "    :return: Tuple of Tensors from VGG model (image_input, keep_prob, layer3_out, layer4_out, layer7_out)\n",
    "    \"\"\"\n",
    "    # TODO: Implement function\n",
    "    #   Use tf.saved_model.loader.load to load the model and weights\n",
    "    vgg_tag = 'vgg16'\n",
    "    vgg_input_tensor_name = 'image_input:0'\n",
    "    vgg_keep_prob_tensor_name = 'keep_prob:0'\n",
    "    vgg_layer3_out_tensor_name = 'layer3_out:0'\n",
    "    vgg_layer4_out_tensor_name = 'layer4_out:0'\n",
    "    vgg_layer7_out_tensor_name = 'layer7_out:0'\n",
    "    \n",
    "    graph = tf.get_default_graph()\n",
    "\n",
    "    tf.saved_model.loader.load(sess, [vgg_tag], vgg_path)\n",
    "    image_input = graph.get_tensor_by_name(vgg_input_tensor_name)\n",
    "    keep_prob = graph.get_tensor_by_name(vgg_keep_prob_tensor_name)\n",
    "    layer3 = graph.get_tensor_by_name(vgg_layer3_out_tensor_name)\n",
    "    layer4 = graph.get_tensor_by_name(vgg_layer4_out_tensor_name)\n",
    "    layer7 = graph.get_tensor_by_name(vgg_layer7_out_tensor_name)\n",
    "    return image_input, keep_prob, layer3, layer4, layer7\n",
    "\n",
    "print(\"Load vgg16 model: \")\n",
    "tests.test_load_vgg(load_vgg, tf)\n"
   ]
  },
  {
   "cell_type": "code",
   "execution_count": 4,
   "metadata": {},
   "outputs": [
    {
     "name": "stdout",
     "output_type": "stream",
     "text": [
      "Load layers: \n",
      "Tests Passed\n"
     ]
    }
   ],
   "source": [
    "def layers(vgg_layer3_out, vgg_layer4_out, vgg_layer7_out, num_classes): \n",
    "    \"\"\"\n",
    "    Create the layers for a fully convolutional network.  Build skip-layers using the vgg layers.\n",
    "    :param vgg_layer3_out: TF Tensor for VGG Layer 3 output\n",
    "    :param vgg_layer4_out: TF Tensor for VGG Layer 4 output\n",
    "    :param vgg_layer7_out: TF Tensor for VGG Layer 7 output\n",
    "    :param num_classes: Number of classes to classify\n",
    "    :return: The Tensor for the last layer of output\n",
    "    \"\"\"\n",
    "    # TODO: check good initializer and regularizer \n",
    "    kernel_regularizer = tf.contrib.layers.l2_regularizer(L2_REG)\n",
    "    kernel_initializer = tf.initializers.orthogonal()\n",
    "    \n",
    "    # perform a convolution on layer 7 and connect it to the output\n",
    "    layer7_conv_1x1 = tf.layers.conv2d(vgg_layer7_out, num_classes, 1,1, padding = 'same',\n",
    "                                kernel_initializer= tf.random_normal_initializer(stddev=0.01), \n",
    "                                kernel_regularizer= tf.contrib.layers.l2_regularizer(1e-3))\n",
    "    output = tf.layers.conv2d_transpose(layer7_conv_1x1, num_classes, 4, 2, padding ='same', \n",
    "                                kernel_initializer= tf.random_normal_initializer(stddev=0.01), \n",
    "                                kernel_regularizer= tf.contrib.layers.l2_regularizer(1e-3))\n",
    "    \n",
    "    # perform a convolution on layer 4 and add it to the existing output, then do a transposed conv\n",
    "    layer4_conv_1x1 = tf.layers.conv2d(vgg_layer4_out, num_classes, 1,1, padding = 'same',\n",
    "                                kernel_initializer= tf.random_normal_initializer(stddev=0.01), \n",
    "                                kernel_regularizer= tf.contrib.layers.l2_regularizer(1e-3))\n",
    "    output = tf.add(output, layer4_conv_1x1)\n",
    "    output = tf.layers.conv2d_transpose(output, num_classes, 4, 2, padding='same', \n",
    "                                kernel_initializer= tf.random_normal_initializer(stddev=0.01), \n",
    "                                kernel_regularizer= tf.contrib.layers.l2_regularizer(1e-3))\n",
    "                                                                             \n",
    "    # perform a convolution on layer 3 and add it to the existing output, then do a transposed conv\n",
    "    layer3_conv_1x1 = tf.layers.conv2d(vgg_layer3_out, num_classes, 1,1, padding = 'same',\n",
    "                                kernel_initializer= tf.random_normal_initializer(stddev=0.01), \n",
    "                                kernel_regularizer= tf.contrib.layers.l2_regularizer(1e-3))\n",
    "    output = tf.add(output, layer3_conv_1x1)\n",
    "    output = tf.layers.conv2d_transpose(output, num_classes, 16, 8, padding='same',                                       \n",
    "                                kernel_initializer= tf.random_normal_initializer(stddev=0.01), \n",
    "                                kernel_regularizer= tf.contrib.layers.l2_regularizer(1e-3))\n",
    "    \n",
    "    #tf.Print(output, [tf.shape(output)[1:3]])\n",
    "    return output\n",
    "print(\"Load layers: \")\n",
    "tests.test_layers(layers)"
   ]
  },
  {
   "cell_type": "code",
   "execution_count": null,
   "metadata": {},
   "outputs": [],
   "source": []
  },
  {
   "cell_type": "code",
   "execution_count": null,
   "metadata": {},
   "outputs": [
    {
     "name": "stdout",
     "output_type": "stream",
     "text": [
      "Tests Passed\n"
     ]
    }
   ],
   "source": [
    "\n",
    "def optimize(nn_last_layer, correct_label, learning_rate, num_classes):\n",
    "    \"\"\"\n",
    "    Build the TensorFLow loss and optimizer operations.\n",
    "    :param nn_last_layer: TF Tensor of the last layer in the neural network\n",
    "    :param correct_label: TF Placeholder for the correct label image\n",
    "    :param learning_rate: TF Placeholder for the learning rate\n",
    "    :param num_classes: Number of classes to classify\n",
    "    :return: Tuple of (logits, train_op, cross_entropy_loss)\n",
    "    \"\"\"\n",
    "    logits = tf.reshape(nn_last_layer, (-1, num_classes))\n",
    "    labels = tf.reshape(correct_label, (-1, num_classes))\n",
    "    cross_entropy_loss = tf.reduce_mean(tf.nn.softmax_cross_entropy_with_logits_v2(logits=logits, labels=correct_label))\n",
    "    #  train_op = tf.train.MomentumOptimizer(learning_rate=learning_rate, momentum=0.9).minimize(cross_entropy_loss)\n",
    "    train_op = tf.train.AdamOptimizer(learning_rate=learning_rate).minimize(cross_entropy_loss)\n",
    "    \n",
    "    return logits, train_op, cross_entropy_loss\n",
    "tests.test_optimize(optimize)\n"
   ]
  },
  {
   "cell_type": "code",
   "execution_count": null,
   "metadata": {},
   "outputs": [],
   "source": [
    "def train_nn(sess, epochs, batch_size, get_batches_fn, train_op, cross_entropy_loss, input_image,\n",
    "             correct_label, keep_prob, learning_rate, saver, data_dir):\n",
    "    \"\"\"\n",
    "    Train neural network and print out the loss during training.\n",
    "    :param sess: TF Session\n",
    "    :param epochs: Number of epochs\n",
    "    :param batch_size: Batch size\n",
    "    :param get_batches_fn: Function to get batches of training data.  Call using get_batches_fn(batch_size)\n",
    "    :param train_op: TF Operation to train the neural network\n",
    "    :param cross_entropy_loss: TF Tensor for the amount of loss\n",
    "    :param input_image: TF Placeholder for input images\n",
    "    :param correct_label: TF Placeholder for label images\n",
    "    :param keep_prob: TF Placeholder for dropout keep probability\n",
    "    :param learning_rate: TF Placeholder for learning rate\n",
    "    \"\"\"\n",
    "    # TODO: Implement function\n",
    "    for epoch in range(epochs):\n",
    "        s_time = time.time()\n",
    "        for image, targets in get_batches_fn(batch_size):\n",
    "            _, loss = sess.run([train_op, cross_entropy_loss], \n",
    "                feed_dict = {input_image: image, correct_label: targets, keep_prob: KEEP_PROB ,\n",
    "                             learning_rate: LEARNING_RATE })\n",
    "        # Print data on the learning process\n",
    "        print(\"Epoch: {}\".format(epoch + 1), \"/ {}\".format(epochs), \" Loss: {:.3f}\".format(loss), \" Time: \",\n",
    "              str(timedelta(seconds=(time.time() - s_time))))\n",
    "        if (epoch + 1) % 10 == 0: # Save every 5 epochs\n",
    "            save_path = saver.save(sess, os.path.join(data_dir, 'epoch_' + str(epoch) + '.ckpt'))\n",
    "        \n",
    "\n",
    "#Don't use the provided test, as we have a different input to the function\n",
    "#tests.test_train_nn(train_nn)"
   ]
  },
  {
   "cell_type": "code",
   "execution_count": null,
   "metadata": {},
   "outputs": [
    {
     "name": "stdout",
     "output_type": "stream",
     "text": [
      "Tests Passed\n",
      "Training...\n",
      "INFO:tensorflow:Restoring parameters from ./data\\vgg\\variables\\variables\n",
      "Epoch: 1 / 20  Loss: 0.207  Time:  0:01:37.864654\n"
     ]
    }
   ],
   "source": [
    "\n",
    "\n",
    "def run():\n",
    "    tests.test_for_kitti_dataset(DATA_DIR)\n",
    "    # Download pretrained vgg model\n",
    "    helper.maybe_download_pretrained_vgg(DATA_DIR)\n",
    "\n",
    "    print(\"Training...\")\n",
    "\n",
    "    with tf.Session() as sess:\n",
    "        # Path to vgg model\n",
    "        vgg_path = os.path.join(DATA_DIR, 'vgg')\n",
    "        # Create function to get batches\n",
    "        get_batches_fn = helper.gen_batch_function(os.path.join(DATA_DIR, 'data_road/training'), IMAGE_SHAPE)\n",
    "        # OPTIONAL: Augment Images for better results\n",
    "        #  https://datascience.stackexchange.com/questions/5224/how-to-prepare-augment-images-for-neural-network\n",
    "        # Add some augmentations, see helper.py\n",
    "        input, keep_prob, layer3, layer4, layer7 = load_vgg(sess, vgg_path)\n",
    "        output = layers(layer3, layer4, layer7, NUM_CLASSES)\n",
    "        correct_label = tf.placeholder(dtype = tf.float32, shape = (None, None, None, NUM_CLASSES))\n",
    "        learning_rate = tf.placeholder(dtype = tf.float32)\n",
    "        logits, train_op, cross_entropy_loss = optimize(output, correct_label, learning_rate, NUM_CLASSES)\n",
    "        tf.set_random_seed(123)\n",
    "        sess.run(tf.global_variables_initializer())\n",
    "        saver = tf.train.Saver() #Simple model saver\n",
    "        train_nn(sess, EPOCHS, BATCH_SIZE, get_batches_fn, train_op, cross_entropy_loss, input, correct_label,\n",
    "                 keep_prob, learning_rate,  saver, MODEL_DIR)\n",
    "        # Save inference data using helper.save_inference_samples\n",
    "        helper.save_inference_samples(RUNS_DIR, DATA_DIR, sess, IMAGE_SHAPE, logits, keep_prob, input)\n",
    "        print(\"Done\")\n",
    "        # OPTIONAL: Apply the trained model to a video\n",
    "        \n",
    "run()"
   ]
  },
  {
   "cell_type": "markdown",
   "metadata": {
    "scrolled": false
   },
   "source": [
    "### without regularization\n",
    "\n",
    "Epoch: 1 / 5  Loss: 0.947  Time:  0:01:31.879395\n",
    "Epoch: 2 / 5  Loss: 0.774  Time:  0:01:29.919057\n",
    "Epoch: 3 / 5  Loss: 0.726  Time:  0:01:40.409835\n",
    "Epoch: 4 / 5  Loss: 0.700  Time:  0:01:56.143895\n",
    "Epoch: 5 / 5  Loss: 0.672  Time:  0:01:58.565175\n",
    "Training Finished. Saving test images to: ./runs\\1540840717.903083\n",
    "\n",
    "\n",
    "### standard regularization\n",
    "\n",
    "Epoch: 1 / 20  Loss: 0.135  Time:  0:01:42.530179\n",
    "Epoch: 2 / 20  Loss: 0.255  Time:  0:02:06.080995\n",
    "Epoch: 3 / 20  Loss: 0.089  Time:  0:02:09.374919\n",
    "Epoch: 4 / 20  Loss: 0.073  Time:  0:02:09.156908\n",
    "Epoch: 5 / 20  Loss: 0.075  Time:  0:02:09.304775\n",
    "Epoch: 6 / 20  Loss: 0.083  Time:  0:02:10.274703\n",
    "Epoch: 7 / 20  Loss: 0.135  Time:  0:02:09.564648\n",
    "Epoch: 8 / 20  Loss: 0.036  Time:  0:02:09.255591\n",
    "Epoch: 9 / 20  Loss: 0.044  Time:  0:02:09.056574\n",
    "Epoch: 10 / 20  Loss: 0.090  Time:  0:02:09.841141\n",
    "Epoch: 11 / 20  Loss: 0.049  Time:  0:02:08.956540\n",
    "Epoch: 12 / 20  Loss: 0.048  Time:  0:02:09.494981\n",
    "Epoch: 13 / 20  Loss: 0.067  Time:  0:02:09.884587\n",
    "Epoch: 14 / 20  Loss: 0.015  Time:  0:02:09.849671\n",
    "Epoch: 15 / 20  Loss: 0.026  Time:  0:02:10.587436\n",
    "Epoch: 16 / 20  Loss: 0.089  Time:  0:02:09.789505\n",
    "Epoch: 17 / 20  Loss: 0.038  Time:  0:02:09.382614\n",
    "Epoch: 18 / 20  Loss: 0.049  Time:  0:02:09.362768\n",
    "Epoch: 19 / 20  Loss: 0.063  Time:  0:02:09.163698\n",
    "Epoch: 20 / 20  Loss: 0.052  Time:  0:02:09.201310\n",
    "1540845167.5800643\n",
    "\n",
    "### augment with flip and random brightness and contrast \n",
    "\n",
    "\n",
    "Epoch: 1 / 20  Loss: 0.746  Time:  0:01:31.271338\n",
    "Epoch: 2 / 20  Loss: 0.586  Time:  0:01:32.809698\n",
    "Epoch: 3 / 20  Loss: 0.457  Time:  0:01:52.036394\n",
    "Epoch: 4 / 20  Loss: 0.320  Time:  0:02:04.046675\n",
    "Epoch: 5 / 20  Loss: 0.165  Time:  0:02:09.064407\n",
    "Epoch: 6 / 20  Loss: 0.129  Time:  0:02:11.825765\n",
    "Epoch: 7 / 20  Loss: 0.080  Time:  0:02:08.195775\n",
    "Epoch: 8 / 20  Loss: 0.102  Time:  0:02:08.505612\n",
    "Epoch: 9 / 20  Loss: 0.117  Time:  0:02:08.363144\n",
    "Epoch: 10 / 20  Loss: 0.073  Time:  0:02:08.413695\n",
    "Epoch: 11 / 20  Loss: 0.059  Time:  0:02:04.330584\n",
    "Epoch: 12 / 20  Loss: 0.099  Time:  0:02:08.333077\n",
    "Epoch: 13 / 20  Loss: 0.078  Time:  0:02:09.456341\n",
    "Epoch: 14 / 20  Loss: 0.086  Time:  0:02:09.155645\n",
    "Epoch: 15 / 20  Loss: 0.072  Time:  0:02:18.026403\n",
    "Epoch: 16 / 20  Loss: 0.053  Time:  0:02:09.169739\n",
    "Epoch: 17 / 20  Loss: 0.091  Time:  0:02:18.399122\n",
    "Epoch: 18 / 20  Loss: 0.078  Time:  0:02:14.184786\n",
    "Epoch: 19 / 20  Loss: 0.136  Time:  0:02:17.844234\n",
    "Epoch: 20 / 20  Loss: 0.191  Time:  0:02:13.351590\n",
    "Training Finished. Saving test images to: ./runs\\1540852572.6791086\n",
    "\n",
    "\n",
    "looks like too little generalization or too little regularization\n",
    "\n",
    "\n",
    "### regularization e-3 --> e-5 gets slightly better in iou\n",
    "Epoch: 1 / 20  Loss: 0.790  Time:  0:01:33.200101\n",
    "Epoch: 2 / 20  Loss: 0.691  Time:  0:01:23.696226\n",
    "Epoch: 3 / 20  Loss: 0.571  Time:  0:01:32.057452\n",
    "Epoch: 4 / 20  Loss: 0.394  Time:  0:01:38.021367\n",
    "Epoch: 5 / 20  Loss: 0.449  Time:  0:01:46.768626\n",
    "Epoch: 6 / 20  Loss: 0.259  Time:  0:01:54.783575\n",
    "Epoch: 7 / 20  Loss: 0.113  Time:  0:01:55.703466\n",
    "Epoch: 8 / 20  Loss: 0.089  Time:  0:01:59.253920\n",
    "Epoch: 9 / 20  Loss: 0.162  Time:  0:02:04.317690\n",
    "Epoch: 10 / 20  Loss: 0.128  Time:  0:02:07.141466\n",
    "Epoch: 11 / 20  Loss: 0.110  Time:  0:01:54.742900\n",
    "Epoch: 12 / 20  Loss: 0.222  Time:  0:02:16.932343\n",
    "Epoch: 13 / 20  Loss: 0.105  Time:  0:02:09.088753\n",
    "Epoch: 14 / 20  Loss: 0.156  Time:  0:02:08.976205\n",
    "Epoch: 15 / 20  Loss: 0.043  Time:  0:02:09.306973\n",
    "Epoch: 16 / 20  Loss: 0.132  Time:  0:02:09.489564\n",
    "Epoch: 17 / 20  Loss: 0.050  Time:  0:02:09.450222\n",
    "Epoch: 18 / 20  Loss: 0.100  Time:  0:02:09.112877\n",
    "Epoch: 19 / 20  Loss: 0.124  Time:  0:02:09.056755\n",
    "Epoch: 20 / 20  Loss: 0.159  Time:  0:02:09.210153\n",
    "Training Finished. Saving test images to: ./runs\\1540886071.6455922\n",
    "Done\n",
    "\n"
   ]
  },
  {
   "cell_type": "code",
   "execution_count": null,
   "metadata": {},
   "outputs": [],
   "source": []
  },
  {
   "cell_type": "code",
   "execution_count": null,
   "metadata": {},
   "outputs": [],
   "source": []
  },
  {
   "cell_type": "code",
   "execution_count": null,
   "metadata": {},
   "outputs": [],
   "source": []
  }
 ],
 "metadata": {
  "kernelspec": {
   "display_name": "Python 3",
   "language": "python",
   "name": "python3"
  },
  "language_info": {
   "codemirror_mode": {
    "name": "ipython",
    "version": 3
   },
   "file_extension": ".py",
   "mimetype": "text/x-python",
   "name": "python",
   "nbconvert_exporter": "python",
   "pygments_lexer": "ipython3",
   "version": "3.6.6"
  }
 },
 "nbformat": 4,
 "nbformat_minor": 2
}
